{
 "cells": [
  {
   "cell_type": "markdown",
   "id": "5043d9bd-27f9-4d67-b95c-1f45e1612ad9",
   "metadata": {},
   "source": [
    "Patient Health Indicators Analysis"
   ]
  },
  {
   "cell_type": "markdown",
   "id": "bc92fec8-2433-43f5-a0ea-a642cce82c5e",
   "metadata": {},
   "source": [
    "Import libraries "
   ]
  },
  {
   "cell_type": "code",
   "execution_count": 66,
   "id": "835ce582-d548-4fc8-b533-d7ab244d9688",
   "metadata": {},
   "outputs": [],
   "source": [
    "import pandas as pd"
   ]
  },
  {
   "cell_type": "markdown",
   "id": "b39cc8d9-6d9d-4a73-b506-d061e7ab3690",
   "metadata": {},
   "source": [
    "Load & Inspect Data"
   ]
  },
  {
   "cell_type": "code",
   "execution_count": 5,
   "id": "6817bdce-906d-45fd-badf-34f124074d2b",
   "metadata": {},
   "outputs": [],
   "source": [
    "patient_data = pd.read_csv(r'C:\\Users\\navee\\OneDrive\\Desktop\\HR ANALYTICS\\Public Health\\Patient_Health_Indicators.csv')"
   ]
  },
  {
   "cell_type": "code",
   "execution_count": 6,
   "id": "272a6f83-fc2c-4882-81a5-b3e5e03a772c",
   "metadata": {},
   "outputs": [
    {
     "name": "stdout",
     "output_type": "stream",
     "text": [
      "Columns with Rows:    Patient_ID  Age  Gender  Blood_Pressure  Cholesterol  Glucose_Level  Fever  \\\n",
      "0           1   69  Female             166          201             75      0   \n",
      "1           2   32    Male             106          215            139      0   \n",
      "2           3   89    Male             154          150            173      0   \n",
      "3           4   78    Male             167          166            168      0   \n",
      "4           5   38  Female              90          254            139      0   \n",
      "\n",
      "   Cough  Fatigue  Pain  Smoker  Diabetic  Heart_Disease      Diagnosis  \n",
      "0      0        0     0       1         0              0        Healthy  \n",
      "1      1        1     1       0         0              0        Healthy  \n",
      "2      1        1     0       0         0              0        Healthy  \n",
      "3      0        1     0       0         0              1  Heart Disease  \n",
      "4      0        1     1       1         0              0        Healthy  \n"
     ]
    }
   ],
   "source": [
    "print(f'Columns with Rows: {patient_data.head()}')"
   ]
  },
  {
   "cell_type": "code",
   "execution_count": 7,
   "id": "b91d4135-45bf-40f4-9007-e6dd43573e64",
   "metadata": {},
   "outputs": [
    {
     "name": "stdout",
     "output_type": "stream",
     "text": [
      "Shape of Data(Rows & Columns): (50000, 14)\n"
     ]
    }
   ],
   "source": [
    "print(f'Shape of Data(Rows & Columns): {patient_data.shape}')"
   ]
  },
  {
   "cell_type": "code",
   "execution_count": 8,
   "id": "8ae54f4d-79c0-4385-b449-26e371f88321",
   "metadata": {},
   "outputs": [
    {
     "name": "stdout",
     "output_type": "stream",
     "text": [
      "<class 'pandas.core.frame.DataFrame'>\n",
      "RangeIndex: 50000 entries, 0 to 49999\n",
      "Data columns (total 14 columns):\n",
      " #   Column          Non-Null Count  Dtype \n",
      "---  ------          --------------  ----- \n",
      " 0   Patient_ID      50000 non-null  int64 \n",
      " 1   Age             50000 non-null  int64 \n",
      " 2   Gender          50000 non-null  object\n",
      " 3   Blood_Pressure  50000 non-null  int64 \n",
      " 4   Cholesterol     50000 non-null  int64 \n",
      " 5   Glucose_Level   50000 non-null  int64 \n",
      " 6   Fever           50000 non-null  int64 \n",
      " 7   Cough           50000 non-null  int64 \n",
      " 8   Fatigue         50000 non-null  int64 \n",
      " 9   Pain            50000 non-null  int64 \n",
      " 10  Smoker          50000 non-null  int64 \n",
      " 11  Diabetic        50000 non-null  int64 \n",
      " 12  Heart_Disease   50000 non-null  int64 \n",
      " 13  Diagnosis       50000 non-null  object\n",
      "dtypes: int64(12), object(2)\n",
      "memory usage: 5.3+ MB\n",
      "Info: None\n"
     ]
    }
   ],
   "source": [
    "print(f'Info: {patient_data.info()}')"
   ]
  },
  {
   "cell_type": "code",
   "execution_count": 9,
   "id": "8db20b6a-fa5f-4817-860b-4189aa7bc1fc",
   "metadata": {},
   "outputs": [
    {
     "name": "stdout",
     "output_type": "stream",
     "text": [
      "\n",
      "Numeric Summary\n"
     ]
    },
    {
     "data": {
      "text/html": [
       "<div>\n",
       "<style scoped>\n",
       "    .dataframe tbody tr th:only-of-type {\n",
       "        vertical-align: middle;\n",
       "    }\n",
       "\n",
       "    .dataframe tbody tr th {\n",
       "        vertical-align: top;\n",
       "    }\n",
       "\n",
       "    .dataframe thead th {\n",
       "        text-align: right;\n",
       "    }\n",
       "</style>\n",
       "<table border=\"1\" class=\"dataframe\">\n",
       "  <thead>\n",
       "    <tr style=\"text-align: right;\">\n",
       "      <th></th>\n",
       "      <th>Patient_ID</th>\n",
       "      <th>Age</th>\n",
       "      <th>Blood_Pressure</th>\n",
       "      <th>Cholesterol</th>\n",
       "      <th>Glucose_Level</th>\n",
       "      <th>Fever</th>\n",
       "      <th>Cough</th>\n",
       "      <th>Fatigue</th>\n",
       "      <th>Pain</th>\n",
       "      <th>Smoker</th>\n",
       "      <th>Diabetic</th>\n",
       "      <th>Heart_Disease</th>\n",
       "    </tr>\n",
       "  </thead>\n",
       "  <tbody>\n",
       "    <tr>\n",
       "      <th>count</th>\n",
       "      <td>50000.000000</td>\n",
       "      <td>50000.000000</td>\n",
       "      <td>50000.000000</td>\n",
       "      <td>50000.000000</td>\n",
       "      <td>50000.000000</td>\n",
       "      <td>50000.000000</td>\n",
       "      <td>50000.000000</td>\n",
       "      <td>50000.000000</td>\n",
       "      <td>50000.000000</td>\n",
       "      <td>50000.000000</td>\n",
       "      <td>50000.000000</td>\n",
       "      <td>50000.00000</td>\n",
       "    </tr>\n",
       "    <tr>\n",
       "      <th>mean</th>\n",
       "      <td>25000.500000</td>\n",
       "      <td>53.398700</td>\n",
       "      <td>134.541120</td>\n",
       "      <td>224.312560</td>\n",
       "      <td>134.806560</td>\n",
       "      <td>0.199980</td>\n",
       "      <td>0.300920</td>\n",
       "      <td>0.397780</td>\n",
       "      <td>0.350040</td>\n",
       "      <td>0.301120</td>\n",
       "      <td>0.247900</td>\n",
       "      <td>0.15068</td>\n",
       "    </tr>\n",
       "    <tr>\n",
       "      <th>std</th>\n",
       "      <td>14433.901067</td>\n",
       "      <td>20.799006</td>\n",
       "      <td>26.001862</td>\n",
       "      <td>43.252848</td>\n",
       "      <td>37.548952</td>\n",
       "      <td>0.399989</td>\n",
       "      <td>0.458663</td>\n",
       "      <td>0.489444</td>\n",
       "      <td>0.476987</td>\n",
       "      <td>0.458749</td>\n",
       "      <td>0.431798</td>\n",
       "      <td>0.35774</td>\n",
       "    </tr>\n",
       "    <tr>\n",
       "      <th>min</th>\n",
       "      <td>1.000000</td>\n",
       "      <td>18.000000</td>\n",
       "      <td>90.000000</td>\n",
       "      <td>150.000000</td>\n",
       "      <td>70.000000</td>\n",
       "      <td>0.000000</td>\n",
       "      <td>0.000000</td>\n",
       "      <td>0.000000</td>\n",
       "      <td>0.000000</td>\n",
       "      <td>0.000000</td>\n",
       "      <td>0.000000</td>\n",
       "      <td>0.00000</td>\n",
       "    </tr>\n",
       "    <tr>\n",
       "      <th>25%</th>\n",
       "      <td>12500.750000</td>\n",
       "      <td>35.000000</td>\n",
       "      <td>112.000000</td>\n",
       "      <td>187.000000</td>\n",
       "      <td>102.000000</td>\n",
       "      <td>0.000000</td>\n",
       "      <td>0.000000</td>\n",
       "      <td>0.000000</td>\n",
       "      <td>0.000000</td>\n",
       "      <td>0.000000</td>\n",
       "      <td>0.000000</td>\n",
       "      <td>0.00000</td>\n",
       "    </tr>\n",
       "    <tr>\n",
       "      <th>50%</th>\n",
       "      <td>25000.500000</td>\n",
       "      <td>53.000000</td>\n",
       "      <td>135.000000</td>\n",
       "      <td>224.000000</td>\n",
       "      <td>135.000000</td>\n",
       "      <td>0.000000</td>\n",
       "      <td>0.000000</td>\n",
       "      <td>0.000000</td>\n",
       "      <td>0.000000</td>\n",
       "      <td>0.000000</td>\n",
       "      <td>0.000000</td>\n",
       "      <td>0.00000</td>\n",
       "    </tr>\n",
       "    <tr>\n",
       "      <th>75%</th>\n",
       "      <td>37500.250000</td>\n",
       "      <td>71.000000</td>\n",
       "      <td>157.000000</td>\n",
       "      <td>262.000000</td>\n",
       "      <td>168.000000</td>\n",
       "      <td>0.000000</td>\n",
       "      <td>1.000000</td>\n",
       "      <td>1.000000</td>\n",
       "      <td>1.000000</td>\n",
       "      <td>1.000000</td>\n",
       "      <td>0.000000</td>\n",
       "      <td>0.00000</td>\n",
       "    </tr>\n",
       "    <tr>\n",
       "      <th>max</th>\n",
       "      <td>50000.000000</td>\n",
       "      <td>89.000000</td>\n",
       "      <td>179.000000</td>\n",
       "      <td>299.000000</td>\n",
       "      <td>199.000000</td>\n",
       "      <td>1.000000</td>\n",
       "      <td>1.000000</td>\n",
       "      <td>1.000000</td>\n",
       "      <td>1.000000</td>\n",
       "      <td>1.000000</td>\n",
       "      <td>1.000000</td>\n",
       "      <td>1.00000</td>\n",
       "    </tr>\n",
       "  </tbody>\n",
       "</table>\n",
       "</div>"
      ],
      "text/plain": [
       "         Patient_ID           Age  Blood_Pressure   Cholesterol  \\\n",
       "count  50000.000000  50000.000000    50000.000000  50000.000000   \n",
       "mean   25000.500000     53.398700      134.541120    224.312560   \n",
       "std    14433.901067     20.799006       26.001862     43.252848   \n",
       "min        1.000000     18.000000       90.000000    150.000000   \n",
       "25%    12500.750000     35.000000      112.000000    187.000000   \n",
       "50%    25000.500000     53.000000      135.000000    224.000000   \n",
       "75%    37500.250000     71.000000      157.000000    262.000000   \n",
       "max    50000.000000     89.000000      179.000000    299.000000   \n",
       "\n",
       "       Glucose_Level         Fever         Cough       Fatigue          Pain  \\\n",
       "count   50000.000000  50000.000000  50000.000000  50000.000000  50000.000000   \n",
       "mean      134.806560      0.199980      0.300920      0.397780      0.350040   \n",
       "std        37.548952      0.399989      0.458663      0.489444      0.476987   \n",
       "min        70.000000      0.000000      0.000000      0.000000      0.000000   \n",
       "25%       102.000000      0.000000      0.000000      0.000000      0.000000   \n",
       "50%       135.000000      0.000000      0.000000      0.000000      0.000000   \n",
       "75%       168.000000      0.000000      1.000000      1.000000      1.000000   \n",
       "max       199.000000      1.000000      1.000000      1.000000      1.000000   \n",
       "\n",
       "             Smoker      Diabetic  Heart_Disease  \n",
       "count  50000.000000  50000.000000    50000.00000  \n",
       "mean       0.301120      0.247900        0.15068  \n",
       "std        0.458749      0.431798        0.35774  \n",
       "min        0.000000      0.000000        0.00000  \n",
       "25%        0.000000      0.000000        0.00000  \n",
       "50%        0.000000      0.000000        0.00000  \n",
       "75%        1.000000      0.000000        0.00000  \n",
       "max        1.000000      1.000000        1.00000  "
      ]
     },
     "execution_count": 9,
     "metadata": {},
     "output_type": "execute_result"
    }
   ],
   "source": [
    "print('\\nNumeric Summary')\n",
    "patient_data.describe()"
   ]
  },
  {
   "cell_type": "code",
   "execution_count": 10,
   "id": "420e6371-ba0d-4ef5-9e93-411ea3040e59",
   "metadata": {},
   "outputs": [
    {
     "name": "stdout",
     "output_type": "stream",
     "text": [
      "\n",
      " Missing Values\n"
     ]
    },
    {
     "data": {
      "text/plain": [
       "Patient_ID        0\n",
       "Age               0\n",
       "Gender            0\n",
       "Blood_Pressure    0\n",
       "Cholesterol       0\n",
       "Glucose_Level     0\n",
       "Fever             0\n",
       "Cough             0\n",
       "Fatigue           0\n",
       "Pain              0\n",
       "Smoker            0\n",
       "Diabetic          0\n",
       "Heart_Disease     0\n",
       "Diagnosis         0\n",
       "dtype: int64"
      ]
     },
     "execution_count": 10,
     "metadata": {},
     "output_type": "execute_result"
    }
   ],
   "source": [
    "print('\\n Missing Values')\n",
    "patient_data.isnull().sum()"
   ]
  },
  {
   "cell_type": "code",
   "execution_count": 11,
   "id": "c56ae94a-8d93-4f52-aefd-235b388fba33",
   "metadata": {},
   "outputs": [
    {
     "name": "stdout",
     "output_type": "stream",
     "text": [
      "\n",
      "Duplicate Rows\n",
      "0\n"
     ]
    }
   ],
   "source": [
    "print('\\nDuplicate Rows')\n",
    "print(patient_data.duplicated().sum())"
   ]
  },
  {
   "cell_type": "code",
   "execution_count": 12,
   "id": "0f1dfaea-11e9-4ec1-92da-505202b16b78",
   "metadata": {},
   "outputs": [
    {
     "name": "stdout",
     "output_type": "stream",
     "text": [
      "\n",
      "Gender Values Count\n",
      "Gender\n",
      "Female    25086\n",
      "Male      24914\n",
      "Name: count, dtype: int64\n"
     ]
    }
   ],
   "source": [
    "print('\\nGender Values Count')\n",
    "print(patient_data['Gender'].value_counts())"
   ]
  },
  {
   "cell_type": "code",
   "execution_count": 13,
   "id": "300b5f3b-464f-438a-84c3-c07f9c253277",
   "metadata": {},
   "outputs": [
    {
     "name": "stdout",
     "output_type": "stream",
     "text": [
      "Stats of Columns:          Patient_ID           Age  Blood_Pressure   Cholesterol  \\\n",
      "count  50000.000000  50000.000000    50000.000000  50000.000000   \n",
      "mean   25000.500000     53.398700      134.541120    224.312560   \n",
      "std    14433.901067     20.799006       26.001862     43.252848   \n",
      "min        1.000000     18.000000       90.000000    150.000000   \n",
      "25%    12500.750000     35.000000      112.000000    187.000000   \n",
      "50%    25000.500000     53.000000      135.000000    224.000000   \n",
      "75%    37500.250000     71.000000      157.000000    262.000000   \n",
      "max    50000.000000     89.000000      179.000000    299.000000   \n",
      "\n",
      "       Glucose_Level         Fever         Cough       Fatigue          Pain  \\\n",
      "count   50000.000000  50000.000000  50000.000000  50000.000000  50000.000000   \n",
      "mean      134.806560      0.199980      0.300920      0.397780      0.350040   \n",
      "std        37.548952      0.399989      0.458663      0.489444      0.476987   \n",
      "min        70.000000      0.000000      0.000000      0.000000      0.000000   \n",
      "25%       102.000000      0.000000      0.000000      0.000000      0.000000   \n",
      "50%       135.000000      0.000000      0.000000      0.000000      0.000000   \n",
      "75%       168.000000      0.000000      1.000000      1.000000      1.000000   \n",
      "max       199.000000      1.000000      1.000000      1.000000      1.000000   \n",
      "\n",
      "             Smoker      Diabetic  Heart_Disease  \n",
      "count  50000.000000  50000.000000    50000.00000  \n",
      "mean       0.301120      0.247900        0.15068  \n",
      "std        0.458749      0.431798        0.35774  \n",
      "min        0.000000      0.000000        0.00000  \n",
      "25%        0.000000      0.000000        0.00000  \n",
      "50%        0.000000      0.000000        0.00000  \n",
      "75%        1.000000      0.000000        0.00000  \n",
      "max        1.000000      1.000000        1.00000  \n"
     ]
    }
   ],
   "source": [
    "print(f'Stats of Columns: {patient_data.describe()}')"
   ]
  },
  {
   "cell_type": "markdown",
   "id": "0760aeb4-946a-4350-97ac-8384a3be6a86",
   "metadata": {},
   "source": [
    "Data Cleaning"
   ]
  },
  {
   "cell_type": "code",
   "execution_count": 15,
   "id": "8a2fa3be-279d-4f9e-8269-29ecd1a45db3",
   "metadata": {},
   "outputs": [],
   "source": [
    "for col in ['Gender', 'Diagnosis']:\n",
    "    patient_data[col] = patient_data[col].astype('category')"
   ]
  },
  {
   "cell_type": "code",
   "execution_count": 16,
   "id": "46605d24-bebb-4b3e-8394-ea5ccdc1a1b0",
   "metadata": {},
   "outputs": [],
   "source": [
    "patient_data['High_BP'] = (patient_data['Blood_Pressure'] > 140).astype(int)\n",
    "patient_data['High_Chol'] = (patient_data['Cholesterol'] > 240).astype(int)\n",
    "patient_data['High_Glucose'] = (patient_data['Glucose_Level'] > 150).astype(int)"
   ]
  },
  {
   "cell_type": "code",
   "execution_count": 17,
   "id": "72112715-a056-4fcd-9e93-d68cff36b765",
   "metadata": {},
   "outputs": [
    {
     "name": "stdout",
     "output_type": "stream",
     "text": [
      "\n",
      "High flag counts:\n",
      "High_BP: 21691\n",
      "High_Chol: 19534\n",
      "High_Glucose: 18958\n"
     ]
    }
   ],
   "source": [
    "print(\"\\nHigh flag counts:\")\n",
    "print(\"High_BP:\", patient_data['High_BP'].sum())\n",
    "print(\"High_Chol:\", patient_data['High_Chol'].sum())\n",
    "print(\"High_Glucose:\", patient_data['High_Glucose'].sum())"
   ]
  },
  {
   "cell_type": "code",
   "execution_count": 18,
   "id": "96010685-eaa4-4428-a8ae-40c14e3d601c",
   "metadata": {},
   "outputs": [
    {
     "name": "stdout",
     "output_type": "stream",
     "text": [
      "\n",
      "High_Risk counts (Risk_Score >= 2):\n",
      "High_Risk\n",
      "1    31130\n",
      "0    18870\n",
      "Name: count, dtype: int64\n"
     ]
    }
   ],
   "source": [
    "patient_data['Risk_Score'] = (patient_data[['High_BP', 'High_Chol', 'High_Glucose', 'Smoker', 'Diabetic', 'Heart_Disease']].sum(axis=1))\n",
    "patient_data['High_Risk'] = (patient_data['Risk_Score'] >= 2).astype(int)\n",
    "print(\"\\nHigh_Risk counts (Risk_Score >= 2):\")\n",
    "print(patient_data['High_Risk'].value_counts())"
   ]
  },
  {
   "cell_type": "code",
   "execution_count": 19,
   "id": "98dfba01-c5c7-4152-af46-235d27b1c6be",
   "metadata": {},
   "outputs": [
    {
     "name": "stdout",
     "output_type": "stream",
     "text": [
      "Cleaned dataset saved as Cleaned_Patient_Data.csv\n"
     ]
    }
   ],
   "source": [
    "patient_data.to_csv(r'C:\\Users\\navee\\OneDrive\\Desktop\\HR ANALYTICS\\Public Health\\Cleaned_Patient_Data.csv', index=False)\n",
    "print(\"Cleaned dataset saved as Cleaned_Patient_Data.csv\")"
   ]
  },
  {
   "cell_type": "markdown",
   "id": "a968dee2-a9a5-486d-a1de-4e883a55ea76",
   "metadata": {},
   "source": [
    "EDA"
   ]
  },
  {
   "cell_type": "code",
   "execution_count": 21,
   "id": "e529f50a-4d54-4cd0-85bd-8f5a46a448f3",
   "metadata": {},
   "outputs": [
    {
     "name": "stdout",
     "output_type": "stream",
     "text": [
      "Gender distribution\n",
      "Gender\n",
      "Female    25086\n",
      "Male      24914\n",
      "Name: count, dtype: int64\n"
     ]
    }
   ],
   "source": [
    "print(\"Gender distribution\")\n",
    "print(patient_data['Gender'].value_counts())"
   ]
  },
  {
   "cell_type": "code",
   "execution_count": 22,
   "id": "20c28286-9089-4e1e-91f6-90ed84d0b067",
   "metadata": {},
   "outputs": [
    {
     "name": "stdout",
     "output_type": "stream",
     "text": [
      "Diagnosis distribution\n",
      "Diagnosis\n",
      "Healthy          29910\n",
      "Hypertension      7705\n",
      "Heart Disease     5374\n",
      "Diabetes          4781\n",
      "Flu               2230\n",
      "Name: count, dtype: int64\n"
     ]
    }
   ],
   "source": [
    "print('Diagnosis distribution')\n",
    "print(patient_data['Diagnosis'].value_counts())"
   ]
  },
  {
   "cell_type": "code",
   "execution_count": 23,
   "id": "ad0a212d-227a-4f43-88f3-dde75d468bd8",
   "metadata": {},
   "outputs": [
    {
     "name": "stdout",
     "output_type": "stream",
     "text": [
      "High Risk distribution\n",
      "High_Risk\n",
      "1    31130\n",
      "0    18870\n",
      "Name: count, dtype: int64\n"
     ]
    }
   ],
   "source": [
    "print('High Risk distribution')\n",
    "print(patient_data['High_Risk'].value_counts())"
   ]
  },
  {
   "cell_type": "code",
   "execution_count": 24,
   "id": "df820d31-01c9-4a0f-bc99-bb8cfd8ed545",
   "metadata": {},
   "outputs": [
    {
     "name": "stdout",
     "output_type": "stream",
     "text": [
      "Mean clinical values by High_Risk\n",
      "           Blood_Pressure  Cholesterol  Glucose_Level\n",
      "High_Risk                                            \n",
      "0              123.778908   207.310122     119.870111\n",
      "1              141.064825   234.618889     143.860553\n"
     ]
    }
   ],
   "source": [
    "print('Mean clinical values by High_Risk')\n",
    "print(patient_data.groupby('High_Risk')[['Blood_Pressure','Cholesterol','Glucose_Level']].mean())"
   ]
  },
  {
   "cell_type": "code",
   "execution_count": 25,
   "id": "94c9abb2-8240-4152-b50e-79a0c270ee58",
   "metadata": {},
   "outputs": [
    {
     "name": "stdout",
     "output_type": "stream",
     "text": [
      "High Risk Rate by Age\n",
      "     High_Risk\n",
      "Age           \n",
      "18    0.604106\n",
      "19    0.610879\n",
      "20    0.653846\n",
      "21    0.633663\n",
      "22    0.623066\n",
      "23    0.586648\n",
      "24    0.622754\n",
      "25    0.618287\n",
      "26    0.619519\n",
      "27    0.609551\n"
     ]
    }
   ],
   "source": [
    "age_risk = patient_data.groupby('Age')[['High_Risk']].mean()\n",
    "print('High Risk Rate by Age')\n",
    "print(age_risk.head(10))"
   ]
  },
  {
   "cell_type": "markdown",
   "id": "c32f67c1-0e65-448e-af30-787a26213f25",
   "metadata": {},
   "source": [
    "Visualizations"
   ]
  },
  {
   "cell_type": "markdown",
   "id": "4442436a-3844-47bf-ab94-382ff7711a03",
   "metadata": {},
   "source": [
    "Age Distribution of Patients"
   ]
  },
  {
   "cell_type": "code",
   "execution_count": 28,
   "id": "42974349-5e2b-4c6e-8dc8-ae5c3bcdc609",
   "metadata": {},
   "outputs": [],
   "source": [
    "import matplotlib.pyplot as plt"
   ]
  },
  {
   "cell_type": "code",
   "execution_count": 29,
   "id": "909cfc7f-7ad6-40b5-9c15-fd01bc28261b",
   "metadata": {},
   "outputs": [
    {
     "data": {
      "image/png": "[encoded data removed]",
      "text/plain": [
       "<Figure size 800x500 with 1 Axes>"
      ]
     },
     "metadata": {},
     "output_type": "display_data"
    }
   ],
   "source": [
    "plt.figure(figsize=(8,5))\n",
    "plt.hist(patient_data['Age'], bins=30, edgecolor= 'black')\n",
    "plt.title('Age Distribution of Patients')\n",
    "plt.xlabel('Age')\n",
    "plt.ylabel('Count')\n",
    "plt.show()"
   ]
  },
  {
   "cell_type": "markdown",
   "id": "c440f237-ddcb-4ef2-b90d-b7aad4676505",
   "metadata": {},
   "source": [
    "Blood Pressure by Age Group"
   ]
  },
  {
   "cell_type": "code",
   "execution_count": 31,
   "id": "28726172-c2d1-4f62-a496-cb6257145c08",
   "metadata": {},
   "outputs": [
    {
     "data": {
      "image/png": "[encoded data removed]",
      "text/plain": [
       "<Figure size 800x500 with 1 Axes>"
      ]
     },
     "metadata": {},
     "output_type": "display_data"
    }
   ],
   "source": [
    "age_groups = pd.cut(patient_data['Age'], bins=[18,30,40,50,60,70,80,90])\n",
    "bp_by_age = patient_data.groupby(age_groups, observed=False)['Blood_Pressure'].mean()\n",
    "\n",
    "plt.figure(figsize=(8,5))\n",
    "bp_by_age.plot(kind='line', color='red', marker='s')\n",
    "plt.title('Average Blood Pressure by Age Group')\n",
    "plt.xlabel('Age Group')\n",
    "plt.ylabel('Average Blood Pressure')\n",
    "plt.grid(color='black')\n",
    "plt.show()"
   ]
  },
  {
   "cell_type": "markdown",
   "id": "31756550-6f0b-4678-acb4-96b4c59e5f47",
   "metadata": {},
   "source": [
    "High Risk vs Healthy Patients"
   ]
  },
  {
   "cell_type": "code",
   "execution_count": 33,
   "id": "0249fced-62f3-4db9-aa34-d3639f3de46c",
   "metadata": {},
   "outputs": [
    {
     "data": {
      "image/png": "[encoded data removed]",
      "text/plain": [
       "<Figure size 600x500 with 1 Axes>"
      ]
     },
     "metadata": {},
     "output_type": "display_data"
    }
   ],
   "source": [
    "plt.figure(figsize=(6,5))\n",
    "patient_data['High_Risk'].value_counts().plot(kind='bar', color=['green', 'red'] , edgecolor='black')\n",
    "plt.title('High Risk vs Non-High Risk Patients')\n",
    "plt.xticks([0,1], ['Non-High Risk','High Risk'], rotation=0)\n",
    "plt.ylabel('Count')\n",
    "plt.show()"
   ]
  },
  {
   "cell_type": "markdown",
   "id": "81313bf0-8195-4dce-8df4-a2454984d8e5",
   "metadata": {},
   "source": [
    "Diagnosis Distribution (Pie Chart)"
   ]
  },
  {
   "cell_type": "code",
   "execution_count": 35,
   "id": "c482b068-3bd1-4d9e-9aa8-cd097efd81d5",
   "metadata": {},
   "outputs": [
    {
     "data": {
      "image/png": "[encoded data removed]",
      "text/plain": [
       "<Figure size 600x600 with 1 Axes>"
      ]
     },
     "metadata": {},
     "output_type": "display_data"
    }
   ],
   "source": [
    "plt.figure(figsize=(6,6))\n",
    "patient_data['Diagnosis'].value_counts().plot(kind='pie', autopct='%1.1f%%', startangle=90, colors=['blue','purple','green','pink','red'])\n",
    "plt.title('Diagnosis Distribution')\n",
    "plt.ylabel(\"\")\n",
    "plt.show()"
   ]
  },
  {
   "cell_type": "markdown",
   "id": "2287bd26-3d0e-4563-9a96-5a84185c3903",
   "metadata": {},
   "source": [
    "Risk Score Distribution by Gender"
   ]
  },
  {
   "cell_type": "code",
   "execution_count": 37,
   "id": "8a16bd25-827c-4aab-a084-0dd6302f9cfe",
   "metadata": {},
   "outputs": [
    {
     "data": {
      "text/plain": [
       "<Figure size 700x500 with 0 Axes>"
      ]
     },
     "metadata": {},
     "output_type": "display_data"
    },
    {
     "data": {
      "image/png": "[encoded data removed]",
      "text/plain": [
       "<Figure size 640x480 with 1 Axes>"
      ]
     },
     "metadata": {},
     "output_type": "display_data"
    }
   ],
   "source": [
    "plt.figure(figsize=(7,5))\n",
    "patient_data.boxplot(column='Risk_Score', by='Gender', grid=False)\n",
    "plt.title(\"Risk Score Distribution by Gender\")\n",
    "plt.suptitle(\"\")\n",
    "plt.xlabel(\"Gender\")\n",
    "plt.ylabel(\"Risk Score\")\n",
    "plt.show()"
   ]
  },
  {
   "cell_type": "code",
   "execution_count": null,
   "id": "ac5f79f7-ca97-43a7-a394-25f1125650c6",
   "metadata": {},
   "outputs": [],
   "source": []
  },
  {
   "cell_type": "code",
   "execution_count": null,
   "id": "bab47f06-bd49-43dc-bbad-4245dee8e093",
   "metadata": {},
   "outputs": [],
   "source": []
  }
 ],
 "metadata": {
  "kernelspec": {
   "display_name": "Python [conda env:base] *",
   "language": "python",
   "name": "conda-base-py"
  },
  "language_info": {
   "codemirror_mode": {
    "name": "ipython",
    "version": 3
   },
   "file_extension": ".py",
   "mimetype": "text/x-python",
   "name": "python",
   "nbconvert_exporter": "python",
   "pygments_lexer": "ipython3",
   "version": "3.12.7"
  }
 },
 "nbformat": 4,
 "nbformat_minor": 5
}
